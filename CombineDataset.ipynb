{
 "cells": [
  {
   "cell_type": "code",
   "execution_count": 105,
   "id": "3f6a0b7b",
   "metadata": {},
   "outputs": [],
   "source": [
    "import pandas as pd\n",
    "import os"
   ]
  },
  {
   "cell_type": "code",
   "execution_count": 106,
   "id": "8dc8c42f",
   "metadata": {},
   "outputs": [],
   "source": [
    "csvPath = 'csv_data'\n",
    "csvFiles = os.listdir(path=csvPath)\n",
    "dflist = []"
   ]
  },
  {
   "cell_type": "code",
   "execution_count": 107,
   "id": "f6a67f09",
   "metadata": {},
   "outputs": [],
   "source": [
    "for i in range(len(csvFiles)):\n",
    "    dflist.append(pd.read_csv(os.path.join(csvPath, csvFiles[i])))"
   ]
  },
  {
   "cell_type": "code",
   "execution_count": 108,
   "id": "be9c7622",
   "metadata": {},
   "outputs": [],
   "source": [
    "for df in dflist:\n",
    "    df.set_index('Time', inplace = True)"
   ]
  },
  {
   "cell_type": "code",
   "execution_count": 109,
   "id": "03afbfaf",
   "metadata": {},
   "outputs": [],
   "source": [
    "combined = pd.concat(dflist, axis = 1)\n",
    "combined.dropna(inplace = True)"
   ]
  },
  {
   "cell_type": "code",
   "execution_count": 110,
   "id": "0bbc3a5a",
   "metadata": {},
   "outputs": [],
   "source": [
    "combined.to_csv('csv_combined.csv')"
   ]
  }
 ],
 "metadata": {
  "kernelspec": {
   "display_name": "Python 3 (ipykernel)",
   "language": "python",
   "name": "python3"
  },
  "language_info": {
   "codemirror_mode": {
    "name": "ipython",
    "version": 3
   },
   "file_extension": ".py",
   "mimetype": "text/x-python",
   "name": "python",
   "nbconvert_exporter": "python",
   "pygments_lexer": "ipython3",
   "version": "3.8.12"
  }
 },
 "nbformat": 4,
 "nbformat_minor": 5
}
