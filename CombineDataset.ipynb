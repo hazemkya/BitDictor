{
 "cells": [
  {
   "cell_type": "code",
   "execution_count": 21,
   "id": "0e4b335b",
   "metadata": {},
   "outputs": [],
   "source": [
    "import pandas as pd\n",
    "import os"
   ]
  },
  {
   "cell_type": "code",
   "execution_count": 22,
   "id": "471701e0",
   "metadata": {},
   "outputs": [],
   "source": [
    "csvPath = 'data\\csv_data'\n",
    "csvFiles = os.listdir(path=csvPath)\n",
    "dflist = []"
   ]
  },
  {
   "cell_type": "code",
   "execution_count": 23,
   "id": "10d2df09",
   "metadata": {},
   "outputs": [],
   "source": [
    "for i in range(len(csvFiles)):\n",
    "    dflist.append(pd.read_csv(os.path.join(csvPath, csvFiles[i])))"
   ]
  },
  {
   "cell_type": "code",
   "execution_count": 24,
   "id": "99456c2e",
   "metadata": {},
   "outputs": [],
   "source": [
    "for df in dflist:\n",
    "    df.set_index('Time', inplace = True)"
   ]
  },
  {
   "cell_type": "code",
   "execution_count": 25,
   "id": "c645e4ef",
   "metadata": {},
   "outputs": [],
   "source": [
    "combined = pd.concat(dflist, axis = 1)\n",
    "combined.dropna(inplace = True)\n"
   ]
  },
  {
   "cell_type": "code",
   "execution_count": 26,
   "id": "10f69c7c",
   "metadata": {},
   "outputs": [
    {
     "data": {
      "text/plain": [
       "Index(['active-addresses-btc-24h', 'block-height-btc-24h',\n",
       "       'block-interval-mean-btc-24h', 'block-interval-median-btc-24h',\n",
       "       'block-size-mean-btc-24h', 'block-size-total-btc-24h',\n",
       "       'blocks-mined-btc-24h', 'circulating-supply-btc-24h',\n",
       "       'difficulty-btc-24h', 'o.ma128', 'o.ma14', 'o.ma200', 'o.ma25',\n",
       "       'o.ma40', 'o.ma60', 'o.ma9', 'o.ma90', 'fees-mean-btc-24h',\n",
       "       'fees-median-btc-24h', 'fees-total-btc-24h', 'hash-rate-btc-24h',\n",
       "       'investor-capitalization-btc-24h', 'market-cap-btc-24h',\n",
       "       'new-addresses-btc-24h', 'price-drawdown-from-ath-btc-24h', 'o.c',\n",
       "       'o.h', 'o.l', 'o.o', 'realized-profits-to-value-rpv-ratio-btc-24h',\n",
       "       'receiving-addresses-btc-24h', 'seller-exhaustion-constant-btc-24h',\n",
       "       'sending-addresses-btc-24h', 'sopr-btc-24h', 'o.daysTillHalving',\n",
       "       'o.ratio', 'supply-last-active-1-years-ago-btc-24h',\n",
       "       'total-addresses-btc-24h', 'transaction-count-btc-24h',\n",
       "       'transaction-rate-btc-24h', 'transaction-size-mean-btc-24h',\n",
       "       'transaction-size-total-btc-24h', 'transfer-volume-mean-btc-24h',\n",
       "       'transfer-volume-median-btc-24h', 'transfer-volume-total-btc-24h',\n",
       "       'utx-os-created-btc-24h', 'utx-os-spent-btc-24h',\n",
       "       'utxo-value-created-mean-btc-24h', 'utxo-value-created-median-btc-24h',\n",
       "       'utxo-value-created-total-btc-24h', 'utxo-value-spent-mean-btc-24h',\n",
       "       'utxo-value-spent-median-btc-24h', 'utxo-value-spent-total-btc-24h'],\n",
       "      dtype='object')"
      ]
     },
     "execution_count": 26,
     "metadata": {},
     "output_type": "execute_result"
    }
   ],
   "source": [
    "combined.columns"
   ]
  },
  {
   "cell_type": "code",
   "execution_count": 27,
   "id": "5557ce07",
   "metadata": {},
   "outputs": [],
   "source": [
    "combined.rename(columns={'o.ma40' : 'ma40', 'o.ma60' : 'ma60', 'o.ma128' : 'ma128', 'o.ma14' : 'ma14',\n",
    "                         'o.ma200' : 'ma200', 'o.ma25' : 'ma25', 'o.ma9' : 'ma9', 'o.ma90' : 'ma90', \n",
    "                         'o.c' : 'day_close', 'o.h' : 'day_high', 'o.l' : 'day_low', 'o.o' : 'day_open' } , inplace = True)"
   ]
  },
  {
   "cell_type": "code",
   "execution_count": 20,
   "id": "06887936",
   "metadata": {},
   "outputs": [
    {
     "data": {
      "text/plain": [
       "Index(['active-addresses-btc-24h', 'block-height-btc-24h',\n",
       "       'block-interval-mean-btc-24h', 'block-interval-median-btc-24h',\n",
       "       'block-size-mean-btc-24h', 'block-size-total-btc-24h',\n",
       "       'blocks-mined-btc-24h', 'circulating-supply-btc-24h',\n",
       "       'difficulty-btc-24h', 'ma128', 'ma14', 'ma200', 'ma25', 'ma40', 'ma60',\n",
       "       'ma9', 'ma90', 'fees-mean-btc-24h', 'fees-median-btc-24h',\n",
       "       'fees-total-btc-24h', 'hash-rate-btc-24h',\n",
       "       'investor-capitalization-btc-24h', 'market-cap-btc-24h',\n",
       "       'new-addresses-btc-24h', 'price-drawdown-from-ath-btc-24h', 'day_close',\n",
       "       'day_high', 'day_low', 'day_open',\n",
       "       'realized-profits-to-value-rpv-ratio-btc-24h',\n",
       "       'receiving-addresses-btc-24h', 'seller-exhaustion-constant-btc-24h',\n",
       "       'sending-addresses-btc-24h', 'sopr-btc-24h', 'o.daysTillHalving',\n",
       "       'o.ratio', 'supply-last-active-1-years-ago-btc-24h',\n",
       "       'total-addresses-btc-24h', 'transaction-count-btc-24h',\n",
       "       'transaction-rate-btc-24h', 'transaction-size-mean-btc-24h',\n",
       "       'transaction-size-total-btc-24h', 'transfer-volume-mean-btc-24h',\n",
       "       'transfer-volume-median-btc-24h', 'transfer-volume-total-btc-24h',\n",
       "       'utx-os-created-btc-24h', 'utx-os-spent-btc-24h',\n",
       "       'utxo-value-created-mean-btc-24h', 'utxo-value-created-median-btc-24h',\n",
       "       'utxo-value-created-total-btc-24h', 'utxo-value-spent-mean-btc-24h',\n",
       "       'utxo-value-spent-median-btc-24h', 'utxo-value-spent-total-btc-24h'],\n",
       "      dtype='object')"
      ]
     },
     "execution_count": 20,
     "metadata": {},
     "output_type": "execute_result"
    }
   ],
   "source": [
    "combined.columns"
   ]
  },
  {
   "cell_type": "code",
   "execution_count": 11,
   "id": "04981716",
   "metadata": {},
   "outputs": [],
   "source": [
    "combined.to_csv('csv_combined2.csv')"
   ]
  },
  {
   "cell_type": "code",
   "execution_count": null,
   "id": "ab534e70",
   "metadata": {},
   "outputs": [],
   "source": []
  },
  {
   "cell_type": "code",
   "execution_count": 114,
   "id": "9ecc7340",
   "metadata": {},
   "outputs": [
    {
     "data": {
      "text/plain": [
       "pandas.core.frame.DataFrame"
      ]
     },
     "execution_count": 114,
     "metadata": {},
     "output_type": "execute_result"
    }
   ],
   "source": [
    "type(combined)"
   ]
  },
  {
   "cell_type": "code",
   "execution_count": null,
   "id": "ec08078c",
   "metadata": {},
   "outputs": [],
   "source": []
  }
 ],
 "metadata": {
  "kernelspec": {
   "display_name": "Python 3 (ipykernel)",
   "language": "python",
   "name": "python3"
  },
  "language_info": {
   "codemirror_mode": {
    "name": "ipython",
    "version": 3
   },
   "file_extension": ".py",
   "mimetype": "text/x-python",
   "name": "python",
   "nbconvert_exporter": "python",
   "pygments_lexer": "ipython3",
   "version": "3.8.12"
  }
 },
 "nbformat": 4,
 "nbformat_minor": 5
}
