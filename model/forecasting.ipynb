{
 "cells": [
  {
   "cell_type": "code",
   "execution_count": 1,
   "metadata": {},
   "outputs": [
    {
     "name": "stderr",
     "output_type": "stream",
     "text": [
      "Importing plotly failed. Interactive plots will not work.\n"
     ]
    }
   ],
   "source": [
    "import pandas as pd\n",
    "import sktime as skt\n",
    "from sktime.forecasting.base import ForecastingHorizon\n",
    "from sktime.forecasting.model_selection import temporal_train_test_split\n",
    "from sktime.forecasting.theta import ThetaForecaster\n",
    "from sktime.performance_metrics.forecasting import mean_absolute_scaled_error\n",
    "\n",
    "from prophet import Prophet\n",
    "from sklearn.model_selection import train_test_split\n",
    "from sklearn.metrics import mean_squared_error, mean_absolute_error\n",
    "from utilities import *"
   ]
  },
  {
   "cell_type": "markdown",
   "metadata": {},
   "source": [
    "# Variables"
   ]
  },
  {
   "cell_type": "code",
   "execution_count": 2,
   "metadata": {},
   "outputs": [],
   "source": [
    "# Change this\n",
    "predicted_col = \"day_close\"\n",
    "start_halving = 0\n",
    "train_percentage = 1\n",
    "add_regressors_to_prophet = False\n",
    "shift_length = 3 # Only affects ML models\n",
    "save_prediction_prophet = True # Starts predicting t=len(training_set)"
   ]
  },
  {
   "cell_type": "code",
   "execution_count": 3,
   "metadata": {},
   "outputs": [],
   "source": [
    "# No need to change this\n",
    "assert shift_length >= 0\n",
    "assert 4 >= start_halving >=0"
   ]
  },
  {
   "cell_type": "markdown",
   "metadata": {},
   "source": [
    "# Preprocessing"
   ]
  },
  {
   "cell_type": "code",
   "execution_count": 4,
   "metadata": {},
   "outputs": [
    {
     "data": {
      "text/html": [
       "<div>\n",
       "<style scoped>\n",
       "    .dataframe tbody tr th:only-of-type {\n",
       "        vertical-align: middle;\n",
       "    }\n",
       "\n",
       "    .dataframe tbody tr th {\n",
       "        vertical-align: top;\n",
       "    }\n",
       "\n",
       "    .dataframe thead th {\n",
       "        text-align: right;\n",
       "    }\n",
       "</style>\n",
       "<table border=\"1\" class=\"dataframe\">\n",
       "  <thead>\n",
       "    <tr style=\"text-align: right;\">\n",
       "      <th></th>\n",
       "      <th>Time</th>\n",
       "      <th>active-addresses-btc-24h</th>\n",
       "      <th>block-height-btc-24h</th>\n",
       "      <th>block-interval-mean-btc-24h</th>\n",
       "      <th>block-interval-median-btc-24h</th>\n",
       "      <th>block-size-mean-btc-24h</th>\n",
       "      <th>block-size-total-btc-24h</th>\n",
       "      <th>blocks-mined-btc-24h</th>\n",
       "      <th>circulating-supply-btc-24h</th>\n",
       "      <th>difficulty-btc-24h</th>\n",
       "      <th>...</th>\n",
       "      <th>transfer-volume-median-btc-24h</th>\n",
       "      <th>transfer-volume-total-btc-24h</th>\n",
       "      <th>utx-os-created-btc-24h</th>\n",
       "      <th>utx-os-spent-btc-24h</th>\n",
       "      <th>utxo-value-created-mean-btc-24h</th>\n",
       "      <th>utxo-value-created-median-btc-24h</th>\n",
       "      <th>utxo-value-created-total-btc-24h</th>\n",
       "      <th>utxo-value-spent-mean-btc-24h</th>\n",
       "      <th>utxo-value-spent-median-btc-24h</th>\n",
       "      <th>utxo-value-spent-total-btc-24h</th>\n",
       "    </tr>\n",
       "  </thead>\n",
       "  <tbody>\n",
       "    <tr>\n",
       "      <th>0</th>\n",
       "      <td>2010-08-17 00:00:00+00:00</td>\n",
       "      <td>365.0</td>\n",
       "      <td>74916.0</td>\n",
       "      <td>659.201550</td>\n",
       "      <td>410.0</td>\n",
       "      <td>675.527132</td>\n",
       "      <td>87143.0</td>\n",
       "      <td>129.0</td>\n",
       "      <td>3745850.0</td>\n",
       "      <td>2.198051e+12</td>\n",
       "      <td>...</td>\n",
       "      <td>50.0</td>\n",
       "      <td>49995.99</td>\n",
       "      <td>419.0</td>\n",
       "      <td>292.0</td>\n",
       "      <td>134.715967</td>\n",
       "      <td>50.0</td>\n",
       "      <td>56445.99</td>\n",
       "      <td>171.219144</td>\n",
       "      <td>50.00</td>\n",
       "      <td>49995.99</td>\n",
       "    </tr>\n",
       "    <tr>\n",
       "      <th>1</th>\n",
       "      <td>2010-08-18 00:00:00+00:00</td>\n",
       "      <td>595.0</td>\n",
       "      <td>75049.0</td>\n",
       "      <td>661.496241</td>\n",
       "      <td>455.0</td>\n",
       "      <td>2005.503759</td>\n",
       "      <td>266732.0</td>\n",
       "      <td>133.0</td>\n",
       "      <td>3752500.0</td>\n",
       "      <td>2.198051e+12</td>\n",
       "      <td>...</td>\n",
       "      <td>50.0</td>\n",
       "      <td>37386.94</td>\n",
       "      <td>527.0</td>\n",
       "      <td>1302.0</td>\n",
       "      <td>83.564516</td>\n",
       "      <td>49.0</td>\n",
       "      <td>44038.50</td>\n",
       "      <td>28.716206</td>\n",
       "      <td>0.01</td>\n",
       "      <td>37388.50</td>\n",
       "    </tr>\n",
       "    <tr>\n",
       "      <th>2</th>\n",
       "      <td>2010-08-19 00:00:00+00:00</td>\n",
       "      <td>336.0</td>\n",
       "      <td>75184.0</td>\n",
       "      <td>635.518519</td>\n",
       "      <td>429.0</td>\n",
       "      <td>623.651852</td>\n",
       "      <td>84193.0</td>\n",
       "      <td>135.0</td>\n",
       "      <td>3759250.0</td>\n",
       "      <td>2.198051e+12</td>\n",
       "      <td>...</td>\n",
       "      <td>50.0</td>\n",
       "      <td>20402.10</td>\n",
       "      <td>415.0</td>\n",
       "      <td>271.0</td>\n",
       "      <td>65.426747</td>\n",
       "      <td>50.0</td>\n",
       "      <td>27152.10</td>\n",
       "      <td>75.284502</td>\n",
       "      <td>50.00</td>\n",
       "      <td>20402.10</td>\n",
       "    </tr>\n",
       "    <tr>\n",
       "      <th>3</th>\n",
       "      <td>2010-08-20 00:00:00+00:00</td>\n",
       "      <td>480.0</td>\n",
       "      <td>75377.0</td>\n",
       "      <td>447.398964</td>\n",
       "      <td>288.0</td>\n",
       "      <td>595.834197</td>\n",
       "      <td>114996.0</td>\n",
       "      <td>193.0</td>\n",
       "      <td>3768900.0</td>\n",
       "      <td>2.198051e+12</td>\n",
       "      <td>...</td>\n",
       "      <td>50.0</td>\n",
       "      <td>29578.41</td>\n",
       "      <td>538.0</td>\n",
       "      <td>388.0</td>\n",
       "      <td>72.915260</td>\n",
       "      <td>50.0</td>\n",
       "      <td>39228.41</td>\n",
       "      <td>76.233015</td>\n",
       "      <td>50.00</td>\n",
       "      <td>29578.41</td>\n",
       "    </tr>\n",
       "    <tr>\n",
       "      <th>4</th>\n",
       "      <td>2010-08-21 00:00:00+00:00</td>\n",
       "      <td>365.0</td>\n",
       "      <td>75550.0</td>\n",
       "      <td>501.942197</td>\n",
       "      <td>356.0</td>\n",
       "      <td>539.421965</td>\n",
       "      <td>93320.0</td>\n",
       "      <td>173.0</td>\n",
       "      <td>3777550.0</td>\n",
       "      <td>2.198051e+12</td>\n",
       "      <td>...</td>\n",
       "      <td>50.0</td>\n",
       "      <td>38678.31</td>\n",
       "      <td>437.0</td>\n",
       "      <td>286.0</td>\n",
       "      <td>108.302769</td>\n",
       "      <td>50.0</td>\n",
       "      <td>47328.31</td>\n",
       "      <td>135.238846</td>\n",
       "      <td>50.00</td>\n",
       "      <td>38678.31</td>\n",
       "    </tr>\n",
       "    <tr>\n",
       "      <th>5</th>\n",
       "      <td>2010-08-22 00:00:00+00:00</td>\n",
       "      <td>387.0</td>\n",
       "      <td>75762.0</td>\n",
       "      <td>408.674528</td>\n",
       "      <td>287.0</td>\n",
       "      <td>472.556604</td>\n",
       "      <td>100182.0</td>\n",
       "      <td>212.0</td>\n",
       "      <td>3788150.0</td>\n",
       "      <td>2.198051e+12</td>\n",
       "      <td>...</td>\n",
       "      <td>50.0</td>\n",
       "      <td>20418.19</td>\n",
       "      <td>432.0</td>\n",
       "      <td>322.0</td>\n",
       "      <td>71.801366</td>\n",
       "      <td>50.0</td>\n",
       "      <td>31018.19</td>\n",
       "      <td>63.410528</td>\n",
       "      <td>50.00</td>\n",
       "      <td>20418.19</td>\n",
       "    </tr>\n",
       "    <tr>\n",
       "      <th>6</th>\n",
       "      <td>2010-08-23 00:00:00+00:00</td>\n",
       "      <td>453.0</td>\n",
       "      <td>75975.0</td>\n",
       "      <td>404.239437</td>\n",
       "      <td>265.0</td>\n",
       "      <td>488.107981</td>\n",
       "      <td>103967.0</td>\n",
       "      <td>213.0</td>\n",
       "      <td>3798800.0</td>\n",
       "      <td>2.198051e+12</td>\n",
       "      <td>...</td>\n",
       "      <td>50.0</td>\n",
       "      <td>17776.11</td>\n",
       "      <td>445.0</td>\n",
       "      <td>338.0</td>\n",
       "      <td>63.878899</td>\n",
       "      <td>50.0</td>\n",
       "      <td>28426.11</td>\n",
       "      <td>52.592041</td>\n",
       "      <td>50.00</td>\n",
       "      <td>17776.11</td>\n",
       "    </tr>\n",
       "    <tr>\n",
       "      <th>7</th>\n",
       "      <td>2010-08-24 00:00:00+00:00</td>\n",
       "      <td>448.0</td>\n",
       "      <td>76190.0</td>\n",
       "      <td>402.967442</td>\n",
       "      <td>298.0</td>\n",
       "      <td>836.125581</td>\n",
       "      <td>179767.0</td>\n",
       "      <td>215.0</td>\n",
       "      <td>3809550.0</td>\n",
       "      <td>2.198051e+12</td>\n",
       "      <td>...</td>\n",
       "      <td>50.0</td>\n",
       "      <td>21093.11</td>\n",
       "      <td>465.0</td>\n",
       "      <td>753.0</td>\n",
       "      <td>68.481527</td>\n",
       "      <td>50.0</td>\n",
       "      <td>31843.91</td>\n",
       "      <td>28.013161</td>\n",
       "      <td>0.01</td>\n",
       "      <td>21093.91</td>\n",
       "    </tr>\n",
       "    <tr>\n",
       "      <th>8</th>\n",
       "      <td>2010-08-25 00:00:00+00:00</td>\n",
       "      <td>311.0</td>\n",
       "      <td>76406.0</td>\n",
       "      <td>398.833333</td>\n",
       "      <td>254.0</td>\n",
       "      <td>415.458333</td>\n",
       "      <td>89739.0</td>\n",
       "      <td>216.0</td>\n",
       "      <td>3820350.0</td>\n",
       "      <td>2.198051e+12</td>\n",
       "      <td>...</td>\n",
       "      <td>50.0</td>\n",
       "      <td>15911.10</td>\n",
       "      <td>428.0</td>\n",
       "      <td>230.0</td>\n",
       "      <td>62.409112</td>\n",
       "      <td>50.0</td>\n",
       "      <td>26711.10</td>\n",
       "      <td>69.178696</td>\n",
       "      <td>50.00</td>\n",
       "      <td>15911.10</td>\n",
       "    </tr>\n",
       "    <tr>\n",
       "      <th>9</th>\n",
       "      <td>2010-08-26 00:00:00+00:00</td>\n",
       "      <td>455.0</td>\n",
       "      <td>76616.0</td>\n",
       "      <td>446.733333</td>\n",
       "      <td>274.0</td>\n",
       "      <td>562.547619</td>\n",
       "      <td>118135.0</td>\n",
       "      <td>210.0</td>\n",
       "      <td>3830850.0</td>\n",
       "      <td>2.677427e+12</td>\n",
       "      <td>...</td>\n",
       "      <td>4.9</td>\n",
       "      <td>14247.79</td>\n",
       "      <td>435.0</td>\n",
       "      <td>404.0</td>\n",
       "      <td>56.891471</td>\n",
       "      <td>50.0</td>\n",
       "      <td>24747.79</td>\n",
       "      <td>35.266807</td>\n",
       "      <td>5.00</td>\n",
       "      <td>14247.79</td>\n",
       "    </tr>\n",
       "  </tbody>\n",
       "</table>\n",
       "<p>10 rows × 54 columns</p>\n",
       "</div>"
      ],
      "text/plain": [
       "                        Time  active-addresses-btc-24h  block-height-btc-24h  \\\n",
       "0  2010-08-17 00:00:00+00:00                     365.0               74916.0   \n",
       "1  2010-08-18 00:00:00+00:00                     595.0               75049.0   \n",
       "2  2010-08-19 00:00:00+00:00                     336.0               75184.0   \n",
       "3  2010-08-20 00:00:00+00:00                     480.0               75377.0   \n",
       "4  2010-08-21 00:00:00+00:00                     365.0               75550.0   \n",
       "5  2010-08-22 00:00:00+00:00                     387.0               75762.0   \n",
       "6  2010-08-23 00:00:00+00:00                     453.0               75975.0   \n",
       "7  2010-08-24 00:00:00+00:00                     448.0               76190.0   \n",
       "8  2010-08-25 00:00:00+00:00                     311.0               76406.0   \n",
       "9  2010-08-26 00:00:00+00:00                     455.0               76616.0   \n",
       "\n",
       "   block-interval-mean-btc-24h  block-interval-median-btc-24h  \\\n",
       "0                   659.201550                          410.0   \n",
       "1                   661.496241                          455.0   \n",
       "2                   635.518519                          429.0   \n",
       "3                   447.398964                          288.0   \n",
       "4                   501.942197                          356.0   \n",
       "5                   408.674528                          287.0   \n",
       "6                   404.239437                          265.0   \n",
       "7                   402.967442                          298.0   \n",
       "8                   398.833333                          254.0   \n",
       "9                   446.733333                          274.0   \n",
       "\n",
       "   block-size-mean-btc-24h  block-size-total-btc-24h  blocks-mined-btc-24h  \\\n",
       "0               675.527132                   87143.0                 129.0   \n",
       "1              2005.503759                  266732.0                 133.0   \n",
       "2               623.651852                   84193.0                 135.0   \n",
       "3               595.834197                  114996.0                 193.0   \n",
       "4               539.421965                   93320.0                 173.0   \n",
       "5               472.556604                  100182.0                 212.0   \n",
       "6               488.107981                  103967.0                 213.0   \n",
       "7               836.125581                  179767.0                 215.0   \n",
       "8               415.458333                   89739.0                 216.0   \n",
       "9               562.547619                  118135.0                 210.0   \n",
       "\n",
       "   circulating-supply-btc-24h  difficulty-btc-24h  ...  \\\n",
       "0                   3745850.0        2.198051e+12  ...   \n",
       "1                   3752500.0        2.198051e+12  ...   \n",
       "2                   3759250.0        2.198051e+12  ...   \n",
       "3                   3768900.0        2.198051e+12  ...   \n",
       "4                   3777550.0        2.198051e+12  ...   \n",
       "5                   3788150.0        2.198051e+12  ...   \n",
       "6                   3798800.0        2.198051e+12  ...   \n",
       "7                   3809550.0        2.198051e+12  ...   \n",
       "8                   3820350.0        2.198051e+12  ...   \n",
       "9                   3830850.0        2.677427e+12  ...   \n",
       "\n",
       "   transfer-volume-median-btc-24h  transfer-volume-total-btc-24h  \\\n",
       "0                            50.0                       49995.99   \n",
       "1                            50.0                       37386.94   \n",
       "2                            50.0                       20402.10   \n",
       "3                            50.0                       29578.41   \n",
       "4                            50.0                       38678.31   \n",
       "5                            50.0                       20418.19   \n",
       "6                            50.0                       17776.11   \n",
       "7                            50.0                       21093.11   \n",
       "8                            50.0                       15911.10   \n",
       "9                             4.9                       14247.79   \n",
       "\n",
       "   utx-os-created-btc-24h  utx-os-spent-btc-24h  \\\n",
       "0                   419.0                 292.0   \n",
       "1                   527.0                1302.0   \n",
       "2                   415.0                 271.0   \n",
       "3                   538.0                 388.0   \n",
       "4                   437.0                 286.0   \n",
       "5                   432.0                 322.0   \n",
       "6                   445.0                 338.0   \n",
       "7                   465.0                 753.0   \n",
       "8                   428.0                 230.0   \n",
       "9                   435.0                 404.0   \n",
       "\n",
       "   utxo-value-created-mean-btc-24h  utxo-value-created-median-btc-24h  \\\n",
       "0                       134.715967                               50.0   \n",
       "1                        83.564516                               49.0   \n",
       "2                        65.426747                               50.0   \n",
       "3                        72.915260                               50.0   \n",
       "4                       108.302769                               50.0   \n",
       "5                        71.801366                               50.0   \n",
       "6                        63.878899                               50.0   \n",
       "7                        68.481527                               50.0   \n",
       "8                        62.409112                               50.0   \n",
       "9                        56.891471                               50.0   \n",
       "\n",
       "   utxo-value-created-total-btc-24h  utxo-value-spent-mean-btc-24h  \\\n",
       "0                          56445.99                     171.219144   \n",
       "1                          44038.50                      28.716206   \n",
       "2                          27152.10                      75.284502   \n",
       "3                          39228.41                      76.233015   \n",
       "4                          47328.31                     135.238846   \n",
       "5                          31018.19                      63.410528   \n",
       "6                          28426.11                      52.592041   \n",
       "7                          31843.91                      28.013161   \n",
       "8                          26711.10                      69.178696   \n",
       "9                          24747.79                      35.266807   \n",
       "\n",
       "   utxo-value-spent-median-btc-24h  utxo-value-spent-total-btc-24h  \n",
       "0                            50.00                        49995.99  \n",
       "1                             0.01                        37388.50  \n",
       "2                            50.00                        20402.10  \n",
       "3                            50.00                        29578.41  \n",
       "4                            50.00                        38678.31  \n",
       "5                            50.00                        20418.19  \n",
       "6                            50.00                        17776.11  \n",
       "7                             0.01                        21093.91  \n",
       "8                            50.00                        15911.10  \n",
       "9                             5.00                        14247.79  \n",
       "\n",
       "[10 rows x 54 columns]"
      ]
     },
     "execution_count": 4,
     "metadata": {},
     "output_type": "execute_result"
    }
   ],
   "source": [
    "df = load_data()\n",
    "df.head(10)"
   ]
  },
  {
   "cell_type": "code",
   "execution_count": 5,
   "metadata": {},
   "outputs": [],
   "source": [
    "df = preprocess_df(df, start_halving=start_halving)"
   ]
  },
  {
   "cell_type": "code",
   "execution_count": 6,
   "metadata": {},
   "outputs": [
    {
     "data": {
      "text/plain": [
       "Index(['Time', 'active-addresses-btc-24h', 'block-height-btc-24h',\n",
       "       'block-interval-mean-btc-24h', 'block-interval-median-btc-24h',\n",
       "       'block-size-mean-btc-24h', 'block-size-total-btc-24h',\n",
       "       'blocks-mined-btc-24h', 'circulating-supply-btc-24h',\n",
       "       'difficulty-btc-24h', 'ma128', 'ma14', 'ma200', 'ma25', 'ma40', 'ma60',\n",
       "       'ma9', 'ma90', 'fees-mean-btc-24h', 'fees-median-btc-24h',\n",
       "       'fees-total-btc-24h', 'hash-rate-btc-24h',\n",
       "       'investor-capitalization-btc-24h', 'market-cap-btc-24h',\n",
       "       'new-addresses-btc-24h', 'price-drawdown-from-ath-btc-24h', 'day_close',\n",
       "       'day_high', 'day_low', 'day_open',\n",
       "       'realized-profits-to-value-rpv-ratio-btc-24h',\n",
       "       'receiving-addresses-btc-24h', 'seller-exhaustion-constant-btc-24h',\n",
       "       'sending-addresses-btc-24h', 'sopr-btc-24h', 'o.daysTillHalving',\n",
       "       'o.ratio', 'supply-last-active-1-years-ago-btc-24h',\n",
       "       'total-addresses-btc-24h', 'transaction-count-btc-24h',\n",
       "       'transaction-rate-btc-24h', 'transaction-size-mean-btc-24h',\n",
       "       'transaction-size-total-btc-24h', 'transfer-volume-mean-btc-24h',\n",
       "       'transfer-volume-median-btc-24h', 'transfer-volume-total-btc-24h',\n",
       "       'utx-os-created-btc-24h', 'utx-os-spent-btc-24h',\n",
       "       'utxo-value-created-mean-btc-24h', 'utxo-value-created-median-btc-24h',\n",
       "       'utxo-value-created-total-btc-24h', 'utxo-value-spent-mean-btc-24h',\n",
       "       'utxo-value-spent-median-btc-24h', 'utxo-value-spent-total-btc-24h'],\n",
       "      dtype='object')"
      ]
     },
     "execution_count": 6,
     "metadata": {},
     "output_type": "execute_result"
    }
   ],
   "source": [
    "df.columns"
   ]
  },
  {
   "cell_type": "markdown",
   "metadata": {},
   "source": [
    "# Analysis"
   ]
  },
  {
   "cell_type": "code",
   "execution_count": 7,
   "metadata": {},
   "outputs": [
    {
     "data": {
      "text/plain": [
       "0           0.070000\n",
       "1           0.068857\n",
       "2           0.067924\n",
       "3           0.067038\n",
       "4           0.066829\n",
       "            ...     \n",
       "4092    61269.470252\n",
       "4093    61293.852660\n",
       "4094    61234.946061\n",
       "4095    61720.352492\n",
       "4096    62040.044970\n",
       "Name: day_close, Length: 4097, dtype: float64"
      ]
     },
     "execution_count": 7,
     "metadata": {},
     "output_type": "execute_result"
    }
   ],
   "source": [
    "# This can provide lots of functions related to rolling averages etc.\n",
    "ewm = df.ewm(span=7)\n",
    "ewm.mean()[\"day_close\"]"
   ]
  },
  {
   "cell_type": "markdown",
   "metadata": {},
   "source": [
    "# Prediction"
   ]
  },
  {
   "cell_type": "markdown",
   "metadata": {},
   "source": [
    "# Thetaforecaster\n",
    "### uses simple exponential smoothing\n",
    "![Formula](https://i.imgur.com/5mTIBwo.png)\n",
    "\n",
    "### More here: https://www.youtube.com/watch?v=k_HN0wOKDd0\n",
    "### Documentation: https://www.sktime.org/en/v0.4.2/modules/auto_generated/sktime.forecasting.theta.ThetaForecaster.html"
   ]
  },
  {
   "cell_type": "code",
   "execution_count": 10,
   "metadata": {},
   "outputs": [
    {
     "name": "stdout",
     "output_type": "stream",
     "text": [
      "\n",
      "        Mean Absolute Scaled Error: 231.081015800819\n",
      "\n",
      "        Mean Absolute Error: 14624.250879875493\n",
      "\n",
      "        Mean Squared Error: 473881504.31905025\n",
      "    \n"
     ]
    }
   ],
   "source": [
    "if train_percentage == 1: # Testing testing\n",
    "    forecaster = ThetaForecaster()\n",
    "    forecaster.fit(df[predicted_col])\n",
    "else:\n",
    "    y_train, y_test = temporal_train_test_split(df[predicted_col], train_size=train_percentage)\n",
    "    fh = ForecastingHorizon(y_test.index, is_relative=False)\n",
    "    forecaster = ThetaForecaster()\n",
    "    forecaster.fit(y_train)\n",
    "    y_pred = forecaster.predict(fh)\n",
    "    mean_absolute_scaled_error(y_test, y_pred, y_train=y_train)\n",
    "    print(f\"\"\"\n",
    "        Mean Absolute Scaled Error: {mean_absolute_scaled_error(y_test, y_pred, y_train=y_train)}\\n\n",
    "        Mean Absolute Error: {mean_absolute_error(y_test, y_pred)}\\n\n",
    "        Mean Squared Error: {mean_squared_error(y_test, y_pred)}\n",
    "    \"\"\")"
   ]
  },
  {
   "cell_type": "markdown",
   "metadata": {},
   "source": [
    "# Prophet"
   ]
  },
  {
   "cell_type": "code",
   "execution_count": 11,
   "metadata": {},
   "outputs": [],
   "source": [
    "addtional_variables = [] if not add_regressors_to_prophet else list(filter(lambda x: x not in (\"Time\", predicted_col), df.columns)) \n",
    "pf_df = preprocess_for_prophet(df, extra_columns=addtional_variables)\n",
    "\n",
    "if shift_length:\n",
    "    shifted_df = pf_df[-shift_length:][addtional_variables] # Contains values dropped during shifting\n",
    "    pf_df[addtional_variables] = pf_df[addtional_variables].shift(shift_length)\n",
    "    pf_df = pf_df.dropna()\n",
    "\n",
    "if train_percentage == 1:\n",
    "    pf_train = pf_df\n",
    "else:\n",
    "    pf_train, pf_test = train_test_split(pf_df, train_size=train_percentage, shuffle=False)\n",
    "\n",
    "pf = Prophet()\n",
    "for variable in addtional_variables:\n",
    "    pf.add_regressor(variable)"
   ]
  },
  {
   "cell_type": "code",
   "execution_count": 12,
   "metadata": {},
   "outputs": [
    {
     "name": "stderr",
     "output_type": "stream",
     "text": [
      "INFO:prophet:Disabling daily seasonality. Run prophet with daily_seasonality=True to override this.\n"
     ]
    },
    {
     "data": {
      "text/plain": [
       "<prophet.forecaster.Prophet at 0x26a9415ba30>"
      ]
     },
     "execution_count": 12,
     "metadata": {},
     "output_type": "execute_result"
    }
   ],
   "source": [
    "pf.fit(pf_train)"
   ]
  },
  {
   "cell_type": "code",
   "execution_count": 13,
   "metadata": {},
   "outputs": [
    {
     "name": "stdout",
     "output_type": "stream",
     "text": [
      "            ds         yhat   yhat_lower    yhat_upper\n",
      "0   2019-08-07  6023.352506  4323.122303   7551.319519\n",
      "1   2019-08-08  5987.171375  4228.832247   7668.724498\n",
      "2   2019-08-09  5966.053899  4202.424762   7597.549085\n",
      "3   2019-08-10  5947.997835  4185.440734   7610.238837\n",
      "4   2019-08-11  5913.304410  4203.400720   7566.694434\n",
      "..         ...          ...          ...           ...\n",
      "815 2021-10-30  3111.968172 -3818.324699  10723.534619\n",
      "816 2021-10-31  3105.366829 -3945.255923  10868.616571\n",
      "817 2021-11-01  3111.673942 -3927.736536  10852.419742\n",
      "818 2021-11-02  3107.300887 -4129.856756  10743.598296\n",
      "819 2021-11-03  3094.033707 -4106.641031  11041.358619\n",
      "\n",
      "[820 rows x 4 columns]\n",
      "\n",
      "        Mean Absolute Scaled Error: 302.45332111906527\n",
      "\n",
      "        Mean Absolute Error: 19141.136419918224\n",
      "\n",
      "        Mean Squared Error: 734816813.8717989\n",
      "    \n"
     ]
    },
    {
     "data": {
      "image/png": "[encoded data removed]",
      "text/plain": [
       "<Figure size 720x432 with 1 Axes>"
      ]
     },
     "metadata": {},
     "output_type": "display_data"
    },
    {
     "data": {
      "image/png": "[encoded data removed]",
      "text/plain": [
       "<Figure size 648x648 with 3 Axes>"
      ]
     },
     "metadata": {},
     "output_type": "display_data"
    }
   ],
   "source": [
    "if train_size != 1:\n",
    "    forecast = pf.predict(pf_test)\n",
    "    print(forecast[['ds', 'yhat', 'yhat_lower', 'yhat_upper']])\n",
    "    pf.plot(forecast)\n",
    "    pf.plot_components(forecast)\n",
    "    print(f\"\"\"\n",
    "        Mean Absolute Scaled Error: {mean_absolute_scaled_error(pf_test[\"y\"], forecast[\"yhat\"], y_train=pf_train[\"y\"])}\\n\n",
    "        Mean Absolute Error: {mean_absolute_error(pf_test[\"y\"], forecast[\"yhat\"])}\\n\n",
    "        Mean Squared Error: {mean_squared_error(pf_test[\"y\"], forecast[\"yhat\"])}\n",
    "    \"\"\")"
   ]
  },
  {
   "cell_type": "code",
   "execution_count": 14,
   "metadata": {},
   "outputs": [
    {
     "name": "stdout",
     "output_type": "stream",
     "text": [
      "0    6023.352506\n",
      "1    5987.171375\n",
      "2    5966.053899\n",
      "Name: yhat, dtype: float64\n"
     ]
    }
   ],
   "source": [
    "if shift_length:\n",
    "    shifted_df[\"ds\"] = pf.make_future_dataframe(shift_length, include_history=False)[\"ds\"].values\n",
    "    prediction_df = pf.predict(shifted_df)\n",
    "    print(prediction_df[\"yhat\"])\n",
    "    if save_prediction_prophet or True:\n",
    "        prediction_df[[\"ds\", \"yhat\", \"yhat_lower\", \"yhat_upper\", \"trend\", \"trend_lower\", \"trend_upper\"]].to_csv(\\\n",
    "            f\"../data/results/prophet/predicted={predicted_col}_shift={shift_length}_start={prediction_df.iloc[0]['ds'].date()}_regressors={add_regressors_to_prophet}.csv\", index=False)"
   ]
  },
  {
   "cell_type": "code",
   "execution_count": null,
   "metadata": {},
   "outputs": [],
   "source": []
  }
 ],
 "metadata": {
  "interpreter": {
   "hash": "1317d502ec9a47ce0a1f002d7a0362aa0d76123f8d527e80bd6d23748f9775de"
  },
  "kernelspec": {
   "display_name": "Python 3.8.5 64-bit ('BitDictor': conda)",
   "name": "python3"
  },
  "language_info": {
   "codemirror_mode": {
    "name": "ipython",
    "version": 3
   },
   "file_extension": ".py",
   "mimetype": "text/x-python",
   "name": "python",
   "nbconvert_exporter": "python",
   "pygments_lexer": "ipython3",
   "version": "3.8.5"
  }
 },
 "nbformat": 4,
 "nbformat_minor": 4
}
