{
 "cells": [
  {
   "cell_type": "code",
   "execution_count": 9,
   "id": "2cf0d768",
   "metadata": {},
   "outputs": [],
   "source": [
    "import os\n",
    "import json\n",
    "import pandas as pd"
   ]
  },
  {
   "cell_type": "markdown",
   "id": "b57f4f46",
   "metadata": {},
   "source": [
    "# Monkeypatch json.loads function"
   ]
  },
  {
   "cell_type": "code",
   "execution_count": 10,
   "id": "041bde21",
   "metadata": {},
   "outputs": [],
   "source": [
    "import pandas.io.json\n",
    "\n",
    "# monkeypatch using standard python json module\n",
    "import json\n",
    "pd.io.json._json.loads = lambda s, *a, **kw: json.loads(s)\n",
    "\n",
    "# monkeypatch using faster simplejson module\n",
    "\n",
    "import simplejson\n",
    "pd.io.json._json.loads = lambda s, *a, **kw: simplejson.loads(s)\n",
    "\n",
    "# normalising (unnesting) at the same time (for nested jsons)\n",
    "pd.io.json._json.loads = lambda s, *a, **kw: pandas.io.json.json_normalize(simplejson.loads(s))"
   ]
  },
  {
   "cell_type": "code",
   "execution_count": 11,
   "id": "55bf66e0",
   "metadata": {
    "scrolled": true
   },
   "outputs": [],
   "source": [
    "jsonPath = 'data\\Json_data'\n",
    "csvPath = 'data\\csv_data'\n",
    "\n",
    "#Store all json files in a list\n",
    "jsonList =os.listdir(path=jsonPath)"
   ]
  },
  {
   "cell_type": "markdown",
   "id": "96fc169f",
   "metadata": {},
   "source": [
    "# JSON to CSV"
   ]
  },
  {
   "cell_type": "code",
   "execution_count": 12,
   "id": "35d5a8e3",
   "metadata": {},
   "outputs": [],
   "source": [
    "#This method will make empty file as a csv extension with the same name and position(index) as the json files\n",
    "def makeCsvFiles (jsonList, csvList):\n",
    "    for file in jsonList:\n",
    "        csvList.append(os.path.splitext(file)[0] + '.csv')"
   ]
  },
  {
   "cell_type": "code",
   "execution_count": 13,
   "id": "b17e650e",
   "metadata": {},
   "outputs": [],
   "source": [
    "#Store all the converted Json files as csv\n",
    "csvList = []\n",
    "makeCsvFiles(jsonList, csvList)"
   ]
  },
  {
   "cell_type": "code",
   "execution_count": 29,
   "id": "297f4322",
   "metadata": {},
   "outputs": [],
   "source": [
    "#Convert all json files to csv files\n",
    "def jsonToCsv (jsonList, csvList):\n",
    "    for i in range(len(jsonList)):\n",
    "        \n",
    "        try:\n",
    "            df = pd.read_json (os.path.join(jsonPath, jsonList[i]))\n",
    "            df.rename(columns={'t' : 'Time', 'v' : os.path.splitext(jsonList[i])[0]}, inplace = True)\n",
    "            df['Time'] = pd.to_datetime(df.Time)\n",
    "            \n",
    "        except Exception as e:\n",
    "            \n",
    "            df = pd.read_json (os.path.join(jsonPath, jsonList[i]))\n",
    "            df.to_csv (os.path.join(csvPath,csvList[i]), index = None)\n",
    "            \n",
    "            print('Cant rename column: ', os.path.splitext(jsonList[i])[0])\n",
    "            print('-------------------------------------')\n",
    "            print(e)\n",
    "            print('#####################################')\n",
    "            \n",
    "        else:\n",
    "            \n",
    "            df.to_csv (os.path.join(csvPath,csvList[i]), index = None)\n",
    "            print('|',os.path.splitext(jsonList[i])[0],'|',' Done.', sep='')\n",
    "            "
   ]
  },
  {
   "cell_type": "code",
   "execution_count": 30,
   "id": "be181cc6",
   "metadata": {},
   "outputs": [
    {
     "name": "stderr",
     "output_type": "stream",
     "text": [
      "C:\\Users\\hazem\\AppData\\Local\\Temp/ipykernel_24628/3008464963.py:13: FutureWarning: pandas.io.json.json_normalize is deprecated, use pandas.json_normalize instead\n",
      "  pd.io.json._json.loads = lambda s, *a, **kw: pandas.io.json.json_normalize(simplejson.loads(s))\n"
     ]
    },
    {
     "name": "stdout",
     "output_type": "stream",
     "text": [
      "|active-addresses-btc-24h| Done.\n",
      "|block-height-btc-24h| Done.\n",
      "|block-interval-mean-btc-24h| Done.\n",
      "|block-interval-median-btc-24h| Done.\n",
      "|block-size-mean-btc-24h| Done.\n",
      "|block-size-total-btc-24h| Done.\n",
      "|blocks-mined-btc-24h| Done.\n",
      "|circulating-supply-btc-24h| Done.\n",
      "|difficulty-btc-24h| Done.\n",
      "|difficulty-ribbon-btc-24h| Done.\n",
      "|fees-mean-btc-24h| Done.\n",
      "|fees-median-btc-24h| Done.\n",
      "|fees-total-btc-24h| Done.\n",
      "|grayscale-holdings-btc-24h| Done.\n",
      "|hash-rate-btc-24h| Done.\n",
      "|investor-capitalization-btc-24h| Done.\n",
      "|market-cap-btc-24h| Done.\n",
      "|new-addresses-btc-24h| Done.\n",
      "|price-drawdown-from-ath-btc-24h| Done.\n",
      "|price-ohlc-btc-24h| Done.\n",
      "|realized-profits-to-value-rpv-ratio-btc-24h| Done.\n",
      "|receiving-addresses-btc-24h| Done.\n",
      "|seller-exhaustion-constant-btc-24h| Done.\n",
      "|sending-addresses-btc-24h| Done.\n",
      "|sopr-btc-24h| Done.\n",
      "|stock-to-flow-ratio-btc-24h| Done.\n",
      "|supply-last-active-1-years-ago-btc-24h| Done.\n",
      "|total-addresses-btc-24h| Done.\n",
      "|transaction-count-btc-24h| Done.\n",
      "|transaction-rate-btc-24h| Done.\n",
      "|transaction-size-mean-btc-24h| Done.\n",
      "|transaction-size-total-btc-24h| Done.\n",
      "|transfer-volume-mean-btc-24h| Done.\n",
      "|transfer-volume-median-btc-24h| Done.\n",
      "|transfer-volume-total-btc-24h| Done.\n",
      "|utx-os-created-btc-24h| Done.\n",
      "|utx-os-spent-btc-24h| Done.\n",
      "|utxo-value-created-mean-btc-24h| Done.\n",
      "|utxo-value-created-median-btc-24h| Done.\n",
      "|utxo-value-created-total-btc-24h| Done.\n",
      "|utxo-value-spent-mean-btc-24h| Done.\n",
      "|utxo-value-spent-median-btc-24h| Done.\n",
      "|utxo-value-spent-total-btc-24h| Done.\n"
     ]
    }
   ],
   "source": [
    "#Convert and export all json files as csv\n",
    "jsonToCsv(jsonList, csvList)"
   ]
  },
  {
   "cell_type": "code",
   "execution_count": null,
   "id": "9aa0191a",
   "metadata": {},
   "outputs": [],
   "source": []
  }
 ],
 "metadata": {
  "kernelspec": {
   "display_name": "Python 3 (ipykernel)",
   "language": "python",
   "name": "python3"
  },
  "language_info": {
   "codemirror_mode": {
    "name": "ipython",
    "version": 3
   },
   "file_extension": ".py",
   "mimetype": "text/x-python",
   "name": "python",
   "nbconvert_exporter": "python",
   "pygments_lexer": "ipython3",
   "version": "3.8.12"
  }
 },
 "nbformat": 4,
 "nbformat_minor": 5
}
